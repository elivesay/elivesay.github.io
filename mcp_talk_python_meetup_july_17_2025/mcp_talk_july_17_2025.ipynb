{
 "cells": [
  {
   "cell_type": "markdown",
   "id": "837af506c50e7f87",
   "metadata": {},
   "source": [
    "## MCP Talk - July 17, 2025\n",
    "### Eric Livesay\n",
    "### Senior Data Engineer, Simpli.fi\n",
    "### https://www.linkedin.com/in/ericlivesay/"
   ]
  },
  {
   "cell_type": "markdown",
   "id": "5d4e5195b4439cea",
   "metadata": {},
   "source": [
    "\n",
    "## What is MCP (Model Context Protocol)?\n",
    "\n",
    "MCP (Model Context Protocol) is a standardized communication framework that enables AI agents to interact with tools, data sources, and other AI systems in a consistent and reliable way.\n",
    "\n",
    "### MCP: The HTTP of AI Agents\n",
    "\n",
    "Just as HTTP revolutionized the internet by providing a universal protocol for web communication:\n",
    "- **HTTP** standardized how web browsers request and receive information\n",
    "- **MCP** standardizes how AI agents access tools, retrieve information, and execute tasks\n",
    "\n",
    "### Key Components of MCP\n",
    "\n",
    "- **Standardized Request Format**: Consistent structure for AI agents to request information or tool usage\n",
    "- **Tool Integration Framework**: Unified methods for connecting to external tools and APIs\n",
    "- **Response Handling**: Standardized formats for receiving and processing results\n",
    "\n",
    "### Why MCP Matters\n",
    "\n",
    "- **Interoperability**: Allows different AI systems to work together seamlessly\n",
    "- **Scalability**: Simplifies building complex AI systems with multiple components\n",
    "- **Reliability**: Creates consistent patterns for error handling and recovery\n",
    "- **Developer Experience**: Reduces implementation complexity with standardized interfaces\n",
    "\n",
    "MCP provides the foundational layer that allows AI agents to reliably interact with the digital world, just as HTTP enabled the explosive growth of the web."
   ]
  },
  {
   "cell_type": "markdown",
   "id": "f488feb8e31cdc9",
   "metadata": {},
   "source": [
    "For a more in depth intro to Model Context Protocol: https://modelcontextprotocol.io/introduction\n"
   ]
  },
  {
   "cell_type": "markdown",
   "id": "3da69c3625261e85",
   "metadata": {},
   "source": [
    "![MCP Diagram](MCP_daigram.jpeg)"
   ]
  },
  {
   "cell_type": "markdown",
   "id": "2deadd5e048cdae2",
   "metadata": {},
   "source": [
    "![MCP Diagram 2](mcp_diagram2.png)"
   ]
  },
  {
   "cell_type": "markdown",
   "id": "531e419c8e7f8d58",
   "metadata": {},
   "source": [
    "## MCP Integration with Workplace Tools\n",
    "\n",
    "MCP provides standardized interfaces for AI agents to interact with popular workplace tools:\n",
    "\n",
    "### Slack Integration\n",
    "- ** Command\n",
    "Processing **: AI\n",
    "agents\n",
    "can\n",
    "listen\n",
    "to and respond\n",
    "to\n",
    "Slack\n",
    "messages\n",
    "- ** Notification\n",
    "Management **: Trigger\n",
    "alerts\n",
    "based\n",
    "on\n",
    "model\n",
    "outputs\n",
    "- ** Knowledge\n",
    "Retrieval **: Search\n",
    "conversation\n",
    "history\n",
    "to\n",
    "provide\n",
    "context - aware\n",
    "responses\n",
    "\n",
    "### Jira Integration\n",
    "- ** Ticket\n",
    "Management **: Create, update, and prioritize tickets based on AI analysis\n",
    "- ** Workflow\n",
    "Automation **: Trigger\n",
    "actions\n",
    "based\n",
    "on\n",
    "specific\n",
    "conditions or patterns\n",
    "- ** Status\n",
    "Reporting **: Generate\n",
    "automated\n",
    "summaries\n",
    "of\n",
    "project\n",
    "status\n",
    "\n",
    "### Discord Integration\n",
    "- ** Community\n",
    "Support **: Answer\n",
    "questions\n",
    "from community members automatically\n",
    "- ** Moderation **: Filter\n",
    "content and monitor\n",
    "discussions\n",
    "- ** Event\n",
    "Management **: Schedule and coordinate\n",
    "community\n",
    "events\n",
    "\n",
    "Each integration leverages MCP's standardized request format and context management to ensure consistent behavior across different platforms."
   ]
  },
  {
   "cell_type": "markdown",
   "id": "69b6a62baff1c140",
   "metadata": {},
   "source": []
  },
  {
   "cell_type": "markdown",
   "id": "e1e85efa97c3989d",
   "metadata": {},
   "source": [
    "## Example: Using MCP Servers in Cursor\n",
    "\n",
    "### Cursor is a powerful code editor that supports MCP servers, allowing developers to build AI applications with ease. Windsurf and Claude Desktop are other examples. Combined with MCP, they can be used as  powerful Agents to accomplish your own tasks.\n",
    "![Cursor IDE](cursor.png) ![Claude Desktop](claude.png) ![Windsurf](windsurf.png)"
   ]
  },
  {
   "cell_type": "markdown",
   "id": "4fb9f58dab910fd0",
   "metadata": {},
   "source": [
    "Adding MCP to your Cursor IDE is easy. Just follow these steps:\n",
    "1. **Open Cursor IDE**: Launch the Cursor IDE on your machine.\n",
    "2. **Access Settings**: Click on Cursor-> Settings.\n",
    "3. **Add MCP Server**: In the settings, navigate to the \"Tools & Integrations \" section and click that. You can now click \"New MCP Server\".\n",
    "\n",
    "![Cursor MCP Settings](CursorMCPSettings.png)"
   ]
  },
  {
   "cell_type": "markdown",
   "id": "44d4218ab2cc2c97",
   "metadata": {},
   "source": [
    "### Demonstration: Using MCP in Cursor IDE with Looker]\n"
   ]
  },
  {
   "cell_type": "markdown",
   "id": "f4326778bef3463d",
   "metadata": {},
   "source": [
    "### How to build an MCP agent in Python with FastMCP library:\n",
    "#### Here is the link to the fastMCP Agent repo:\n",
    "\n",
    "https://github.com/evalstate/fast-agent\n",
    "\n",
    "FastMCPAgent is a python library for rapidly building an AI Agent that works with MCP Servers."
   ]
  },
  {
   "cell_type": "code",
   "execution_count": null,
   "id": "3429d49b11cba64",
   "metadata": {},
   "outputs": [],
   "source": [
    "# install the fastmcp library\n",
    "!curl -LsSf https://astral.sh/uv/install.sh | sh"
   ]
  },
  {
   "cell_type": "code",
   "execution_count": null,
   "id": "24205a0e4d6feebc",
   "metadata": {
    "jupyter": {
     "is_executing": true
    }
   },
   "outputs": [],
   "source": [
    "!uv pip install fast-agent-mcp"
   ]
  },
  {
   "cell_type": "code",
   "execution_count": null,
   "id": "ae9dfdb5dfabee68",
   "metadata": {},
   "outputs": [],
   "source": [
    "!echo y | fast-agent setup "
   ]
  },
  {
   "cell_type": "markdown",
   "id": "443be1a353d715da",
   "metadata": {},
   "source": [
    "### Next configure the OPENAI API KEY in the fastagent.secrets.yaml file"
   ]
  },
  {
   "cell_type": "markdown",
   "id": "f4c74f5b6411b1f7",
   "metadata": {},
   "source": [
    "### Next configure the open ai model you want to use in the fastagent.config.yaml\n",
    "(for example for default_model: put gpt-4.1)"
   ]
  },
  {
   "cell_type": "code",
   "execution_count": null,
   "id": "87e519f551c845e",
   "metadata": {
    "jupyter": {
     "is_executing": true
    }
   },
   "outputs": [],
   "source": [
    "!uv run agent.py"
   ]
  },
  {
   "cell_type": "markdown",
   "id": "d7848df1-4175-4d2a-a696-8f88c63488ac",
   "metadata": {},
   "source": [
    "### Next, lets run an MCP Server to experiment with- We will use the built in 'fetch' mcp server to fetch info from the internet\n",
    "First we need to install node. On a Mac this is done with:"
   ]
  },
  {
   "cell_type": "code",
   "execution_count": null,
   "id": "7fa68a84-29f7-4b2a-a7a3-8c3bb39b9dd1",
   "metadata": {
    "jupyter": {
     "is_executing": true
    }
   },
   "outputs": [],
   "source": [
    "!brew install node"
   ]
  },
  {
   "cell_type": "markdown",
   "id": "08737a64-3202-4089-9982-fbe82223eb41",
   "metadata": {},
   "source": [
    "#### Add an MCP server to the agent:\n",
    "Edit fastagent.config.yaml, add an mcp server"
   ]
  },
  {
   "cell_type": "markdown",
   "id": "66cdfbed-f732-4753-a40c-e6b6910cd5ec",
   "metadata": {},
   "source": [
    "#### Add the atlassian tool to the agent.py file:\n",
    "Update the @fast.agent line with the fetch mcp server for atlassian:\n",
    "Add , servers=[\"fetch\"]: example:\n",
    "```python\n",
    "import asyncio\n",
    "from mcp_agent.core.fastagent import FastAgent\n",
    "\n",
    "# Create the application\n",
    "fast = FastAgent(\"fast-agent example\")\n",
    "\n",
    "\n",
    "# Define the agent\n",
    "@fast.agent(instruction=\"You are a helpful AI Agent researching topics on the internet\", servers=[\"fetch\"])\n",
    "async def main():\n",
    "    # use the --model command line switch or agent arguments to change model\n",
    "    async with fast.run() as agent:\n",
    "        await agent.interactive()\n",
    "\n",
    "\n",
    "if __name__ == \"__main__\":\n",
    "    asyncio.run(main())\n",
    "```"
   ]
  },
  {
   "cell_type": "code",
   "execution_count": 1,
   "id": "30545939-c16a-4359-9545-8058a1221c7f",
   "metadata": {},
   "outputs": [],
   "source": [
    "#### Run your agent again: (Again, in the terminal, this library requires interaction"
   ]
  },
  {
   "cell_type": "markdown",
   "id": "c22dc3c4-dc5e-4eb9-8722-03b50d9daeab",
   "metadata": {},
   "source": [
    "```uv run agent.py```"
   ]
  },
  {
   "cell_type": "code",
   "execution_count": null,
   "id": "38e3f482-d5c8-4e9c-b055-bc379a4d5cf3",
   "metadata": {},
   "outputs": [],
   "source": [
    "Example output:\n",
    "default > what are the top news articles from CNN today?\n",
    "╭────────────────────────────────────────────────────────────────────────────────────────────────────────────────────────────────────────────────────────────────────────────────────────────────────── (default) [USER] ─╮\n",
    "│                                                                                                                                                                                                                         │\n",
    "│  what are the top news articles from CNN today?                                                                                                                                                                         │\n",
    "│                                                                                                                                                                                                                         │\n",
    "╰─ gpt-4.1 turn 2 ────────────────────────────────────────────────────────────────────────────────────────────────────────────────────────────────────────────────────────────────────────────────────────────────────────╯\n",
    "\n",
    "\n",
    "╭─ [ASSISTANT] (default) ─────────────────────────────────────────────────────────────────────────────────────────────────────────────────────────────────────────────────────────────────────────────────────────────────╮\n",
    "│                                                                                                                                                                                                                         │\n",
    "│  the assistant requested tool calls                                                                                                                                                                                     │\n",
    "│                                                                                                                                                                                                                         │\n",
    "╰─ [fetch]  ──────────────────────────────────────────────────────────────────────────────────────────────────────────────────────────────────────────────────────────────────────────────────────────────────────────────╯\n",
    "\n",
    "\n",
    "╭─ [TOOL CALL] (default) ─────────────────────────────────────────────────────────────────────────────────────────────────────────────────────────────────────────────────────────────────────────────────────────────────╮\n",
    "│                                                                                                                                                                                                                         │\n",
    "│  {\"url\":\"https://edition.cnn.com/world\",\"max_length\":3500}                                                                                                                                                              │\n",
    "│                                                                                                                                                                                                                         │\n",
    "╰─ [fetch]  ──────────────────────────────────────────────────────────────────────────────────────────────────────────────────────────────────────────────────────────────────────────────────────────────────────────────╯\n",
    "\n",
    "\n",
    "╭─────────────────────────────────────────────────────────────────────────────────────────────────────────────────────────────────────────────────────────────────────────────────────────────── [TOOL RESULT] (default) ─╮\n",
    "│                                                                                                                                                                                                                         │\n",
    "│  meta=None content=[TextContent(type='text', text='Contents of https://edition.cnn.com/world:\\n[![People carry a body as they mourn Palestinians who were killed in an incident on Wednesday while seeking aid in Khan  │\n",
    "│  Younis, at Nasser hospital in Khan Younis in the southern Gaza Strip July 16, 2025. REUTERS/Hatem Khaled                                                                                                               │\n",
    "│  ](https://media.cnn.com/api/v1/images/stellar/prod/2025-07-16t074501z-144342183-rc2infamyfd1-rtrmadp-3-israel-palestinians-khan-younis-gaza.JPG?c=16x9&q=h_438,w_780,c_fill)\\n\\nHatem                                  │\n",
    "│  Khaled/Reuters](/2025/07/16/middleeast/israel-gaza-aid-site-crush-deaths-intl)\\n[Twenty killed in crush at Israeli and US-backed aid site in Gaza, group                                                               │\n",
    "│                                                                                                                                                                                                                         │\n",
    "╰─────────────────────────────────────────────────────────────────────────────────────────────────────────────────────────────────────────────────────────────────────────────────────────────────────────────────────────╯\n",
    "\n",
    "\n",
    "╭─ [ASSISTANT] (default) ─────────────────────────────────────────────────────────────────────────────────────────────────────────────────────────────────────────────────────────────────────────────────────────────────╮\n",
    "│                                                                                                                                                                                                                         │\n",
    "│  Here are the top news articles from CNN World today:                                                                                                                                                                   │\n",
    "│                                                                                                                                                                                                                         │\n",
    "│  1. **Twenty killed in crush at Israeli and US-backed aid site in Gaza, group says**                                                                                                                                    │\n",
    "│     - Coverage of a deadly incident at an aid site in Gaza.                                                                                                                                                             │\n",
    "│  2. **Prince Harry travels to Angola to back landmine clearance, nearly three decades after Diana’s visit**                                                                                                             │\n",
    "│     - Prince Harry follows in Princess Diana’s footsteps in supporting landmine removal.                                                                                                                                │\n",
    "│  3. **Who are the Druze and why is Israel bombing Syria to protect them?**                                                                                                                                              │\n",
    "│     - Insight on Israel’s strikes in Syria related to the Druze community.                                                                                                                                              │\n",
    "│  4. **Spanish mountain rescue teams search for American hiker missing in Pyrenees**                                                                                                                                     │\n",
    "│     - Ongoing search for a missing American hiker in Spain.                                                                                                                                                             │\n",
    "│  5. **Russia launches ‘massive’ drone bombardment on Zelensky’s hometown, Ukrainian officials say**                                                                                                                     │\n",
    "│     - Reports of a large drone attack in Ukraine.                                                                                                                                                                       │\n",
    "│  6. **As democracy in Georgia collapses, Russia, China and Iran see an opening**                                                                                                                                        │\n",
    "│     - Analysis of shifting geopolitics in Georgia.                                                                                                                                                                      │\n",
    "│  7. **Gallery: In pictures – The world reacts to Pope Francis’ death**                                                                                                                                                  │\n",
    "│     - Photo gallery on reactions to the death of Pope Francis.                                                                                                                                                          │\n",
    "│  8. **UC Berkeley marketing professor killed by gunman in Greece in broad daylight**                                                                                                                                    │\n",
    "│     - News of a fatal shooting of an American academic in Greece.                                                                                                                                                       │\n",
    "│  9. **Sycamore gap tree fellers sentenced to more than four years each in prison**                                                                                                                                      │\n",
    "│     - Sentencing of individuals involved in the felling of the famous Sycamore Gap tree.                                                                                                                                │\n",
    "│  10. **American accused in murders of mother and baby appears before Italian judge after extradition**                                                                                                                  │\n",
    "│      - Case update involving an American suspect extradited to Italy.                                                                                                                                                   │\n",
    "│  11. **Russia sees Trump’s 50-day window as a green light to keep up brutal offensive in Ukraine**                                                                                                                      │\n",
    "│      - Analysis on how global politics affect the ongoing war in Ukraine.                                                                                                                                               │\n",
    "│  12. **An Indian family’s fight to save this mother from execution in war-torn Yemen**                                                                                                                                  │\n",
    "│      - Human rights story on a woman’s struggle for survival in Yemen.                                                                                                                                                  │\n",
    "│  13. **What are Patriot missiles and why does Ukraine need them so badly?**                                                                                                                                             │\n",
    "│      - Explainer on Ukraine’s urgent calls for US missile defense systems.                                                                                                                                              │\n",
    "│                                                                                                                                                                                                                         │\n",
    "│  Would you like to read more about any of these headlines?                                                                                                                                                              │\n",
    "│                                                                                                                                                                                                                         │\n",
    "╰─ [fetch]  ──────────────────────────────────────────────────────────────────────────────────────────────────────────────────────────────────────────────────────────────────────────────────────────────────────────────╯\n",
    "\n"
   ]
  }
 ],
 "metadata": {
  "kernelspec": {
   "display_name": "Python 3 (ipykernel)",
   "language": "python",
   "name": "python3"
  },
  "language_info": {
   "codemirror_mode": {
    "name": "ipython",
    "version": 3
   },
   "file_extension": ".py",
   "mimetype": "text/x-python",
   "name": "python",
   "nbconvert_exporter": "python",
   "pygments_lexer": "ipython3",
   "version": "3.12.2"
  }
 },
 "nbformat": 4,
 "nbformat_minor": 5
}
